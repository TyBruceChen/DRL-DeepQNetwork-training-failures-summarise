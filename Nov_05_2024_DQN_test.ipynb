{
 "cells": [
  {
   "cell_type": "code",
   "execution_count": 1,
   "metadata": {},
   "outputs": [
    {
     "data": {
      "text/plain": [
       "tensor(2)"
      ]
     },
     "execution_count": 1,
     "metadata": {},
     "output_type": "execute_result"
    }
   ],
   "source": [
    "import torch\n",
    "\n",
    "a = torch.tensor([0,2,4,3]).unsqueeze(0)\n",
    "torch.argmax(a)"
   ]
  },
  {
   "cell_type": "markdown",
   "metadata": {},
   "source": [
    "Code Initialization"
   ]
  },
  {
   "cell_type": "code",
   "execution_count": 2,
   "metadata": {},
   "outputs": [],
   "source": [
    "import gymnasium as gym\n",
    "import math\n",
    "import random\n",
    "import matplotlib\n",
    "import matplotlib.pyplot as plt\n",
    "from collections import namedtuple, deque\n",
    "from itertools import count\n",
    "\n",
    "import torch\n",
    "import torch.nn as nn\n",
    "import torch.optim as optim\n",
    "import torch.nn.functional as F\n",
    "\n",
    "import numpy as np\n",
    "\n",
    "env = gym.make(\"CartPole-v1\")\n",
    "\n",
    "# set up matplotlib\n",
    "is_ipython = 'inline' in matplotlib.get_backend()\n",
    "if is_ipython:\n",
    "    from IPython import display\n",
    "\n",
    "plt.ion()\n",
    "\n",
    "# if GPU is to be used\n",
    "device = torch.device(\n",
    "    \"cuda\" if torch.cuda.is_available() else\n",
    "    \"mps\" if torch.backends.mps.is_available() else\n",
    "    \"cpu\"\n",
    ")"
   ]
  },
  {
   "cell_type": "markdown",
   "metadata": {},
   "source": [
    "A glip at the environment"
   ]
  },
  {
   "cell_type": "code",
   "execution_count": 3,
   "metadata": {},
   "outputs": [
    {
     "name": "stdout",
     "output_type": "stream",
     "text": [
      "Env Reset State:(array([-0.02028725,  0.04543065, -0.04631433,  0.02399756], dtype=float32), {}), Action Choices:Discrete(2), Sample Action:0\n",
      "Sampled Env Return:(array([-0.01937864, -0.14899758, -0.04583437,  0.3017156 ], dtype=float32), 1.0, False, False, {})\n",
      "Terminated state:True Truncated state:False #12\n"
     ]
    }
   ],
   "source": [
    "print('Env Reset State:{}, Action Choices:{}, Sample Action:{}'\\\n",
    "      .format(env.reset(), env.action_space, env.action_space.sample()))\n",
    "\n",
    "print('Sampled Env Return:{}'.format(env.step(env.action_space.sample())))\n",
    "for i in count():\n",
    "    state, reward, terminated, truncated, _ = env.step(env.action_space.sample())\n",
    "    if terminated == True or truncated == True:\n",
    "        print('Terminated state:{} Truncated state:{} #{}'.format(terminated, truncated, i))\n",
    "        break"
   ]
  },
  {
   "cell_type": "markdown",
   "metadata": {},
   "source": [
    "Neural Network Construction"
   ]
  },
  {
   "cell_type": "code",
   "execution_count": 4,
   "metadata": {},
   "outputs": [],
   "source": [
    "class DQN(nn.Module):\n",
    "\n",
    "    def __init__(self, n_observations, n_actions):\n",
    "        super(DQN, self).__init__()\n",
    "        self.layer1 = nn.Linear(n_observations, 512)\n",
    "        self.layer2 = nn.Linear(512, 256)\n",
    "        self.layer3 = nn.Linear(256, n_actions)\n",
    "\n",
    "    # Called with either one element to determine next action, or a batch\n",
    "    # during optimization. Returns tensor([[left0exp,right0exp]...]).\n",
    "    def forward(self, x):\n",
    "        x = F.relu(self.layer1(x))\n",
    "        x = F.relu(self.layer2(x))\n",
    "        return self.layer3(x)"
   ]
  },
  {
   "cell_type": "markdown",
   "metadata": {},
   "source": [
    "Dataset Handler"
   ]
  },
  {
   "cell_type": "code",
   "execution_count": 5,
   "metadata": {},
   "outputs": [],
   "source": [
    "Transition_tuple = namedtuple('Transition',['state', 'action','next_state','reward'])\n",
    "\n",
    "class Replay_buffer:\n",
    "    def __init__(self, max_capacity=10000):\n",
    "        self.memory = deque([],maxlen = max_capacity)\n",
    "    \n",
    "    def push(self, *args):  #add a new sample\n",
    "        self.memory.append(Transition_tuple(*args))\n",
    "\n",
    "    def sample(self, batch_size):\n",
    "        return random.sample(self.memory, batch_size)\n",
    "    \n",
    "    def __len__(self):\n",
    "        return len(self.memory)\n",
    "    \n",
    "memory_buffer = Replay_buffer()"
   ]
  },
  {
   "cell_type": "markdown",
   "metadata": {},
   "source": [
    "Action Policy"
   ]
  },
  {
   "cell_type": "code",
   "execution_count": 6,
   "metadata": {},
   "outputs": [],
   "source": [
    "action_set = [0,1]\n",
    "DECAY_FACTOR = 0.85\n",
    "DECAY_END = 0.1\n",
    "DECAY_EPS = 2000\n",
    "state_dtype = torch.float32\n",
    "\n",
    "class epsilon_greedy_policy():\n",
    "    def __init__(self, decay_factor, decay_end, decay_eps):\n",
    "        self.decay_factor = decay_factor\n",
    "        self.decay_end = decay_end  #minimium probability of epsilon greedy policy\n",
    "        self.decay_eps = decay_eps\n",
    "        self.reset()\n",
    "    \n",
    "    def take_action(self, Q_estimation, state, verbose = False):\n",
    "        random_value = random.random()\n",
    "        if random_value < self.decay_value :\n",
    "            action = random.choice(action_set)\n",
    "        else:   #Q-learning feature\n",
    "            action = self.take_action_policy(Q_estimation, state, verbose)\n",
    "        self.decay_value_update()\n",
    "        return action\n",
    "    \n",
    "    def take_action_policy(self, Q_estimation,state, verbose = False):\n",
    "        with torch.no_grad():\n",
    "                Q_value = Q_estimation(torch.tensor(state, dtype=state_dtype).unsqueeze(0))\n",
    "                action_idx = Q_value.argmax()  #in Q-learning, the action with maximum\n",
    "                action = action_set[action_idx]\n",
    "                if verbose == True:\n",
    "                    print('Network Q_values: {}'.format(Q_value))\n",
    "        return action\n",
    "\n",
    "    def decay_value_update(self):\n",
    "        self.taken_steps += 1\n",
    "        self.decay_value = self.decay_end + (self.decay_factor - self.decay_end) * math.exp(-1*self.taken_steps/self.decay_eps)\n",
    "\n",
    "    def reset(self):\n",
    "        self.decay_value = self.decay_factor\n",
    "        self.taken_steps = 0\n",
    "\n",
    "action_policy = epsilon_greedy_policy(DECAY_FACTOR,DECAY_END,DECAY_EPS)"
   ]
  },
  {
   "cell_type": "markdown",
   "metadata": {},
   "source": [
    "Plot Function"
   ]
  },
  {
   "cell_type": "code",
   "execution_count": 7,
   "metadata": {},
   "outputs": [],
   "source": [
    "episode_durations = []\n",
    "def plot_durations(show_result=False):\n",
    "    plt.figure(1)\n",
    "    durations_t = torch.tensor(episode_durations, dtype=torch.float)\n",
    "    if show_result:\n",
    "        plt.title('Result')\n",
    "    else:\n",
    "        plt.clf()\n",
    "        plt.title('Training...')\n",
    "    plt.xlabel('Episode')\n",
    "    plt.ylabel('Duration')\n",
    "    plt.plot(durations_t.numpy())\n",
    "    # Take 100 episode averages and plot them too\n",
    "    if len(durations_t) >= 100:\n",
    "        means = durations_t.unfold(0, 100, 1).mean(1).view(-1)\n",
    "        means = torch.cat((torch.zeros(99), means))\n",
    "        plt.plot(means.numpy())\n",
    "\n",
    "    plt.pause(0.001)  # pause a bit so that plots are updated\n",
    "    if is_ipython:\n",
    "        if not show_result:\n",
    "            display.display(plt.gcf())\n",
    "            display.clear_output(wait=True)\n",
    "        else:\n",
    "            display.display(plt.gcf())"
   ]
  },
  {
   "cell_type": "markdown",
   "metadata": {},
   "source": [
    "Main (Training)"
   ]
  },
  {
   "cell_type": "code",
   "execution_count": 8,
   "metadata": {},
   "outputs": [],
   "source": [
    "LR = 1e-2\n",
    "num_observations = 4\n",
    "num_actions = 2\n",
    "\n",
    "if torch.cuda.is_available() or torch.backends.mps.is_available():\n",
    "    num_episodes = 6000\n",
    "else:\n",
    "    num_episodes = 500\n",
    "\n",
    "target_net = DQN(n_observations = 4, n_actions = 2).to(device = device)\n",
    "policy_net = DQN(n_observations = 4, n_actions = 2).to(device = device)\n",
    "target_net.load_state_dict(policy_net.state_dict()) #create and synchronize the parameters of policy and target model\n",
    "\n",
    "optimizer = optim.AdamW(policy_net.parameters(),lr = LR, amsgrad = True)\n",
    "criterion = nn.SmoothL1Loss()"
   ]
  },
  {
   "cell_type": "code",
   "execution_count": 9,
   "metadata": {},
   "outputs": [
    {
     "name": "stdout",
     "output_type": "stream",
     "text": [
      "Complete\n"
     ]
    },
    {
     "data": {
      "image/png": "[encoded data removed]",
      "text/plain": [
       "<Figure size 640x480 with 1 Axes>"
      ]
     },
     "metadata": {},
     "output_type": "display_data"
    },
    {
     "data": {
      "text/plain": [
       "<Figure size 640x480 with 0 Axes>"
      ]
     },
     "metadata": {},
     "output_type": "display_data"
    },
    {
     "data": {
      "text/plain": [
       "<Figure size 640x480 with 0 Axes>"
      ]
     },
     "metadata": {},
     "output_type": "display_data"
    }
   ],
   "source": [
    "BATCH_SIZE = 16\n",
    "state_dtype = torch.float32\n",
    "reward_dtype = torch.int8\n",
    "GAMMA = 0.99\n",
    "TAU = 0.04\n",
    "\n",
    "memory_buffer = Replay_buffer()\n",
    "\n",
    "def model_train():\n",
    "    if len(memory_buffer) <= 10*BATCH_SIZE:\n",
    "        return \n",
    "    batch = memory_buffer.sample(BATCH_SIZE)  #a list was return, use special * operator to unpack when feeding into function\n",
    "    #the return value is like [#step1: (state, action, next_state, reward), #step2 ...,] we need to convert them into model-friendly format\n",
    "    ## state: [#step1, #step2], action: [#1,#2,], ... and for convience, we can capsulate them with names by namedtuple\n",
    "    batch = Transition_tuple(*zip(*batch))\n",
    "    #print(batch.state)\n",
    "    state = torch.tensor(batch.state,dtype = state_dtype)\n",
    "    next_state = batch.next_state\n",
    "    reward = torch.tensor(batch.reward, dtype = reward_dtype)\n",
    "\n",
    "    mask_fun = lambda s: True if s is not None else False   #lambda function defined to check whether it's terminated state\n",
    "    next_state_mask = list(map(mask_fun, next_state))   #has to be list, rather than tuple\n",
    "    #print(next_state)\n",
    "    #print(len(next_state))\n",
    "    non_zero_next_state = torch.tensor(next_state, dtype = state_dtype)[next_state_mask]   #mannually set the terminated state to [0,0,...]\n",
    "    next_Q_values = torch.zeros(BATCH_SIZE)\n",
    "\n",
    "    current_Q_values = policy_net(state).max(1).values\n",
    "    with torch.no_grad():\n",
    "        next_Q_values[next_state_mask] = target_net(non_zero_next_state).max(1).values #by definition of MDP, the rewards of terminated (final) state should be 0\n",
    "\n",
    "    #temporal_differential_error = reward + GAMMA*next_Q_values - current_Q_values\n",
    "    expected_rewards = reward + GAMMA*next_Q_values\n",
    "\n",
    "    loss = criterion(expected_rewards, current_Q_values)\n",
    "    optimizer.zero_grad()\n",
    "    loss.backward()\n",
    "    #print(f'Target Q value:{expected_rewards}, current Q value:{current_Q_values}')\n",
    "    #print(loss)\n",
    "\n",
    "    torch.nn.utils.clip_grad_value_(policy_net.parameters(), 100)   #limit the gradient value\n",
    "    optimizer.step()\n",
    "\n",
    "\n",
    "\n",
    "def train():\n",
    "    state, _info = env.reset()\n",
    "    for i in range(num_episodes):\n",
    "    # action generation for replay buffer\n",
    "        for j in count():\n",
    "            action = action_policy.take_action(Q_estimation = policy_net, state = state)\n",
    "            next_state, reward, terminated, truncated, _ = env.step(action)\n",
    "            if terminated == True or truncated:\n",
    "                next_state = [0,0,0,0]\n",
    "            memory_buffer.push(*[state, action, next_state, reward])\n",
    "\n",
    "    # batch sampling from memory for model training\n",
    "            model_train()\n",
    "\n",
    "            if terminated == True or truncated == True:\n",
    "                state, _info = env.reset()\n",
    "                episode_durations.append(j+1)\n",
    "                break\n",
    "            else:\n",
    "                state = next_state\n",
    "        target_net_state_dict = target_net.state_dict()\n",
    "        policy_net_parameters = policy_net.state_dict()\n",
    "\n",
    "        for key in target_net_state_dict.keys():\n",
    "            target_net_state_dict[key] = policy_net_parameters[key] * TAU + target_net_state_dict[key]*(1-TAU)\n",
    "\n",
    "        target_net.load_state_dict(target_net_state_dict)\n",
    "        plot_durations()\n",
    "        \n",
    "train()\n",
    "print('Complete')\n",
    "plot_durations(show_result=True)\n",
    "plt.ioff()\n",
    "plt.show()\n",
    "        "
   ]
  },
  {
   "cell_type": "markdown",
   "metadata": {},
   "source": [
    "Test"
   ]
  },
  {
   "cell_type": "code",
   "execution_count": 10,
   "metadata": {},
   "outputs": [
    {
     "name": "stdout",
     "output_type": "stream",
     "text": [
      "Network Q_values: tensor([[18.4445, -0.5865]])\n",
      "Action:0 Reward:1.0 next_state [ 0.037993   -0.17385586 -0.01733426  0.24077374]\n",
      "Network Q_values: tensor([[18.4445, -0.5865]])\n",
      "Action:0 Reward:1.0 next_state [ 0.03451588 -0.36872596 -0.01251879  0.52793896]\n",
      "Network Q_values: tensor([[18.4445, -0.5865]])\n",
      "Action:0 Reward:1.0 next_state [ 0.02714136 -0.56366956 -0.00196001  0.81665105]\n",
      "Network Q_values: tensor([[18.4445, -0.5865]])\n",
      "Action:0 Reward:1.0 next_state [ 0.01586797 -0.7587646   0.01437301  1.1087168 ]\n",
      "Network Q_values: tensor([[18.4445, -0.5865]])\n",
      "Action:0 Reward:1.0 next_state [ 6.9267908e-04 -9.5407248e-01  3.6547348e-02  1.4058739e+00]\n",
      "Network Q_values: tensor([[18.4445, -0.5865]])\n",
      "Action:0 Reward:1.0 next_state [-0.01838877 -1.1496285   0.06466483  1.7097546 ]\n",
      "Network Q_values: tensor([[18.4445, -0.5865]])\n",
      "Action:0 Reward:1.0 next_state [-0.04138134 -1.3454312   0.09885992  2.021843  ]\n",
      "Network Q_values: tensor([[18.4445, -0.5865]])\n",
      "Action:0 Reward:1.0 next_state [-0.06828997 -1.5414283   0.13929677  2.3434207 ]\n",
      "Network Q_values: tensor([[18.4445, -0.5865]])\n",
      "Action:0 Reward:1.0 next_state [-0.09911853 -1.7375019   0.18616518  2.675503  ]\n",
      "Network Q_values: tensor([[18.4445, -0.5865]])\n",
      "Action:0 Reward:1.0 next_state [-0.13386858 -1.9334486   0.23967525  3.0187616 ]\n",
      "End! with 9 rewards\n"
     ]
    }
   ],
   "source": [
    "state, _ = env.reset()\n",
    "\n",
    "for j in count():\n",
    "    action = action_policy.take_action_policy(policy_net, state, verbose=True)\n",
    "    next_state, reward, terminated, _, _ = env.step(action)\n",
    "    print('Action:{} Reward:{} next_state {}'.format(action, reward, next_state))\n",
    "    if terminated == True:\n",
    "        print('End! with {} rewards'.format(j))\n",
    "        break\n",
    "    else:\n",
    "        next_state = state\n",
    "    "
   ]
  }
 ],
 "metadata": {
  "kernelspec": {
   "display_name": ".venv",
   "language": "python",
   "name": "python3"
  },
  "language_info": {
   "codemirror_mode": {
    "name": "ipython",
    "version": 3
   },
   "file_extension": ".py",
   "mimetype": "text/x-python",
   "name": "python",
   "nbconvert_exporter": "python",
   "pygments_lexer": "ipython3",
   "version": "3.11.9"
  }
 },
 "nbformat": 4,
 "nbformat_minor": 2
}
