{
 "cells": [
  {
   "cell_type": "markdown",
   "metadata": {},
   "source": [
    "Code Initialization"
   ]
  },
  {
   "cell_type": "code",
   "execution_count": 3,
   "metadata": {},
   "outputs": [],
   "source": [
    "import gymnasium as gym\n",
    "import math\n",
    "import random\n",
    "import matplotlib\n",
    "import matplotlib.pyplot as plt\n",
    "from collections import namedtuple, deque\n",
    "from itertools import count\n",
    "\n",
    "import torch\n",
    "import torch.nn as nn\n",
    "import torch.optim as optim\n",
    "import torch.nn.functional as F\n",
    "\n",
    "import numpy as np\n",
    "\n",
    "env = gym.make(\"CartPole-v1\")\n",
    "#env = gym.make('Acrobot-v1')\n",
    "\n",
    "# set up matplotlib\n",
    "is_ipython = 'inline' in matplotlib.get_backend()\n",
    "if is_ipython:\n",
    "    from IPython import display\n",
    "\n",
    "plt.ion()\n",
    "\n",
    "# if GPU is to be used\n",
    "device = torch.device(\n",
    "    \"cuda\" if torch.cuda.is_available() else\n",
    "    \"mps\" if torch.backends.mps.is_available() else\n",
    "    \"cpu\"\n",
    ")"
   ]
  },
  {
   "cell_type": "markdown",
   "metadata": {},
   "source": [
    "A glip at the environment"
   ]
  },
  {
   "cell_type": "code",
   "execution_count": 2,
   "metadata": {},
   "outputs": [
    {
     "name": "stdout",
     "output_type": "stream",
     "text": [
      "Env Reset State:(array([0.02589558, 0.03720646, 0.02133869, 0.04279843], dtype=float32), {}), Action Choices:Discrete(2), Sample Action:1\n",
      "Sampled Env Return:(array([ 0.02663971,  0.23201603,  0.02219466, -0.2430763 ], dtype=float32), 1.0, False, False, {})\n",
      "Terminated state:True Truncated state:False #33\n"
     ]
    }
   ],
   "source": [
    "print('Env Reset State:{}, Action Choices:{}, Sample Action:{}'\\\n",
    "      .format(env.reset(), env.action_space, env.action_space.sample()))\n",
    "\n",
    "print('Sampled Env Return:{}'.format(env.step(env.action_space.sample())))\n",
    "for i in count():\n",
    "    state, reward, terminated, truncated, _ = env.step(env.action_space.sample())\n",
    "    if terminated == True or truncated == True:\n",
    "        print('Terminated state:{} Truncated state:{} #{}'.format(terminated, truncated, i))\n",
    "        break"
   ]
  },
  {
   "cell_type": "markdown",
   "metadata": {},
   "source": [
    "Neural Network Construction"
   ]
  },
  {
   "cell_type": "code",
   "execution_count": 4,
   "metadata": {},
   "outputs": [],
   "source": [
    "class DQN(nn.Module):\n",
    "\n",
    "    def __init__(self, n_observations, n_actions):\n",
    "        super(DQN, self).__init__()\n",
    "        self.layer1 = nn.Linear(n_observations, 128)\n",
    "        self.layer2 = nn.Linear(128, 128)\n",
    "        self.layer3 = nn.Linear(128, n_actions)\n",
    "\n",
    "    # Called with either one element to determine next action, or a batch\n",
    "    # during optimization. Returns tensor([[left0exp,right0exp]...]).\n",
    "    def forward(self, x):\n",
    "        x = F.relu(self.layer1(x))\n",
    "        x = F.relu(self.layer2(x))\n",
    "        return self.layer3(x)"
   ]
  },
  {
   "cell_type": "markdown",
   "metadata": {},
   "source": [
    "Dataset Handler"
   ]
  },
  {
   "cell_type": "code",
   "execution_count": 4,
   "metadata": {},
   "outputs": [],
   "source": [
    "Transition_tuple = namedtuple('Transition',['state', 'action','next_state','reward'])\n",
    "\n",
    "class Replay_buffer:\n",
    "    def __init__(self, max_capacity=10000):\n",
    "        self.memory = deque([],maxlen = max_capacity)\n",
    "    \n",
    "    def push(self, *args):  #add a new sample\n",
    "        self.memory.append(Transition_tuple(*args))\n",
    "\n",
    "    def sample(self, batch_size):\n",
    "        return random.sample(self.memory, batch_size)\n",
    "    \n",
    "    def __len__(self):\n",
    "        return len(self.memory)\n",
    "    \n",
    "memory_buffer = Replay_buffer()"
   ]
  },
  {
   "cell_type": "markdown",
   "metadata": {},
   "source": [
    "Action Policy"
   ]
  },
  {
   "cell_type": "code",
   "execution_count": 6,
   "metadata": {},
   "outputs": [],
   "source": [
    "action_set = [a for a in range(env.action_space.n)]\n",
    "DECAY_FACTOR = 0.9\n",
    "DECAY_END = 0.05\n",
    "DECAY_EPS = 1000\n",
    "state_dtype = torch.float32\n",
    "\n",
    "class epsilon_greedy_policy():\n",
    "    def __init__(self, decay_factor, decay_end, decay_eps):\n",
    "        self.decay_factor = decay_factor\n",
    "        self.decay_end = decay_end  #minimium probability of epsilon greedy policy\n",
    "        self.decay_eps = decay_eps\n",
    "        self.reset()\n",
    "    \n",
    "    def take_action(self, Q_estimation, state, verbose = False):\n",
    "        random_value = random.random()\n",
    "        if random_value < self.decay_value :\n",
    "            action = self.take_action_random()\n",
    "        else:   #Q-learning feature\n",
    "            action = self.take_action_policy(Q_estimation, state, verbose)\n",
    "        self.decay_value_update()\n",
    "        return action\n",
    "    \n",
    "    def take_action_random(self):\n",
    "        action = env.action_space.sample()\n",
    "        return action \n",
    "    \n",
    "    def take_action_policy(self, Q_estimation,state, verbose = False):\n",
    "        with torch.no_grad():\n",
    "                Q_value = Q_estimation(torch.tensor(state, dtype=state_dtype).unsqueeze(0))\n",
    "                action_idx = Q_value.argmax()  #in Q-learning, the action with maximum\n",
    "                action = action_set[action_idx]\n",
    "                if verbose == True:\n",
    "                    print('Network Q_values: {}'.format(Q_value))\n",
    "        return action\n",
    "\n",
    "    def decay_value_update(self):\n",
    "        self.taken_steps += 1\n",
    "        self.decay_value = self.decay_end + (self.decay_factor - self.decay_end) * math.exp(-1*self.taken_steps/self.decay_eps)\n",
    "\n",
    "    def reset(self):\n",
    "        self.decay_value = self.decay_factor\n",
    "        self.taken_steps = 0\n",
    "\n",
    "action_policy = epsilon_greedy_policy(DECAY_FACTOR,DECAY_END,DECAY_EPS)"
   ]
  },
  {
   "cell_type": "markdown",
   "metadata": {},
   "source": [
    "Plot Function"
   ]
  },
  {
   "cell_type": "code",
   "execution_count": 6,
   "metadata": {},
   "outputs": [],
   "source": [
    "episode_durations = []\n",
    "def plot_durations(show_result=False):\n",
    "    plt.figure(1)\n",
    "    durations_t = torch.tensor(episode_durations, dtype=torch.float)\n",
    "    if show_result:\n",
    "        plt.title('Result')\n",
    "    else:\n",
    "        plt.clf()\n",
    "        plt.title('Training...')\n",
    "    plt.xlabel('Episode')\n",
    "    plt.ylabel('Duration')\n",
    "    plt.plot(durations_t.numpy())\n",
    "    # Take 100 episode averages and plot them too\n",
    "    if len(durations_t) >= 100:\n",
    "        means = durations_t.unfold(0, 100, 1).mean(1).view(-1)\n",
    "        means = torch.cat((torch.zeros(99), means))\n",
    "        plt.plot(means.numpy())\n",
    "\n",
    "    plt.pause(0.001)  # pause a bit so that plots are updated\n",
    "    if is_ipython:\n",
    "        if not show_result:\n",
    "            display.display(plt.gcf())\n",
    "            display.clear_output(wait=True)\n",
    "        else:\n",
    "            display.display(plt.gcf())"
   ]
  },
  {
   "cell_type": "markdown",
   "metadata": {},
   "source": [
    "Main (Training)"
   ]
  },
  {
   "cell_type": "code",
   "execution_count": 7,
   "metadata": {},
   "outputs": [
    {
     "name": "stderr",
     "output_type": "stream",
     "text": [
      "C:\\Users\\24573\\AppData\\Local\\Temp\\ipykernel_395048\\3966827006.py:13: FutureWarning: You are using `torch.load` with `weights_only=False` (the current default value), which uses the default pickle module implicitly. It is possible to construct malicious pickle data which will execute arbitrary code during unpickling (See https://github.com/pytorch/pytorch/blob/main/SECURITY.md#untrusted-models for more details). In a future release, the default value for `weights_only` will be flipped to `True`. This limits the functions that could be executed during unpickling. Arbitrary objects will no longer be allowed to be loaded via this mode unless they are explicitly allowlisted by the user via `torch.serialization.add_safe_globals`. We recommend you start setting `weights_only=True` for any use case where you don't have full control of the loaded file. Please open an issue on GitHub for any issues related to this experimental feature.\n",
      "  policy_net = torch.load('DQN_official.pt')  #fine-tuning from pre-trained model\n"
     ]
    }
   ],
   "source": [
    "LR = 1e-5\n",
    "num_observations = env.observation_space.shape[0]\n",
    "num_actions = int(env.action_space.n)\n",
    "\n",
    "if torch.cuda.is_available() or torch.backends.mps.is_available():\n",
    "    num_episodes = 600\n",
    "else:\n",
    "    num_episodes = 600\n",
    "\n",
    "target_net = DQN(n_observations = num_observations, n_actions = num_actions).to(device = device)\n",
    "policy_net = DQN(n_observations = num_observations, n_actions = num_actions).to(device = device)\n",
    "\n",
    "policy_net = torch.load('DQN_official.pt')  #fine-tuning from pre-trained model\n",
    "\n",
    "target_net.load_state_dict(policy_net.state_dict()) #create and synchronize the parameters of policy and target model\n",
    "\n",
    "#for param in target_net.parameters():\n",
    "#    param.requires_grad= False\n",
    "\n",
    "optimizer = optim.AdamW(policy_net.parameters(),lr = LR, amsgrad = True)\n",
    "criterion = nn.SmoothL1Loss()\n",
    "#criterion = nn.MSELoss()\n"
   ]
  },
  {
   "cell_type": "code",
   "execution_count": 8,
   "metadata": {},
   "outputs": [
    {
     "name": "stdout",
     "output_type": "stream",
     "text": [
      "tensor([ 0.2892, -0.0825,  0.7553,  0.7920,  0.0105], grad_fn=<SliceBackward0>)\n",
      "tensor([ 0.2892, -0.0825,  0.7553,  0.7920,  0.0105], grad_fn=<SliceBackward0>)\n"
     ]
    }
   ],
   "source": [
    "print(target_net.layer1.bias[:5])\n",
    "print(policy_net.layer1.bias[:5])"
   ]
  },
  {
   "cell_type": "code",
   "execution_count": 9,
   "metadata": {},
   "outputs": [
    {
     "name": "stdout",
     "output_type": "stream",
     "text": [
      "Complete\n"
     ]
    },
    {
     "data": {
      "image/png": "[encoded data removed]",
      "text/plain": [
       "<Figure size 640x480 with 1 Axes>"
      ]
     },
     "metadata": {},
     "output_type": "display_data"
    },
    {
     "data": {
      "text/plain": [
       "<Figure size 640x480 with 0 Axes>"
      ]
     },
     "metadata": {},
     "output_type": "display_data"
    },
    {
     "data": {
      "text/plain": [
       "<Figure size 640x480 with 0 Axes>"
      ]
     },
     "metadata": {},
     "output_type": "display_data"
    }
   ],
   "source": [
    "BATCH_SIZE = 64\n",
    "state_dtype = torch.float32\n",
    "reward_dtype = torch.int16\n",
    "GAMMA = 0.99\n",
    "TAU = 0.005\n",
    "Alpha = 0.1\n",
    "\n",
    "memory_buffer = Replay_buffer()\n",
    "\n",
    "total_step = 0\n",
    "def model_train():\n",
    "    if len(memory_buffer) <= BATCH_SIZE:\n",
    "        return 0\n",
    "    batch = memory_buffer.sample(BATCH_SIZE)  #a list was return, use special * operator to unpack when feeding into function\n",
    "    #the return value is like [#step1: (state, action, next_state, reward), #step2 ...,] we need to convert them into model-friendly format\n",
    "    ## state: [#step1, #step2], action: [#1,#2,], ... and for convience, we can capsulate them with names by namedtuple\n",
    "    batch = Transition_tuple(*zip(*batch))\n",
    "    #print(batch.state)\n",
    "    state = torch.tensor(batch.state,dtype = state_dtype)\n",
    "    next_state = batch.next_state\n",
    "    reward = torch.tensor(batch.reward, dtype = reward_dtype)\n",
    "\n",
    "    mask_fun = lambda s: True if s is not None else False   #lambda function defined to check whether it's terminated state\n",
    "    next_state_mask = list(map(mask_fun, next_state))   #has to be list, rather than tuple\n",
    "    #print(next_state)\n",
    "    #print(len(next_state))\n",
    "    non_zero_next_state = torch.tensor(next_state, dtype = state_dtype)[next_state_mask]   #mannually set the terminated state to [0,0,...]\n",
    "    next_Q_values = torch.zeros(BATCH_SIZE)\n",
    "\n",
    "    policy_net.train()\n",
    "    optimizer.zero_grad()\n",
    "    current_Q_values = policy_net(state).max(1).values\n",
    "    with torch.no_grad():\n",
    "        next_Q_values[next_state_mask] = target_net(non_zero_next_state).max(1).values #by definition of MDP, the rewards of terminated (final) state should be 0\n",
    "        \n",
    "    \n",
    "    #temporal_differential_error = reward + GAMMA*next_Q_values - current_Q_values\n",
    "    expected_rewards = reward + GAMMA*next_Q_values\n",
    "    \n",
    "    loss = criterion(Alpha*current_Q_values, Alpha*expected_rewards)\n",
    "    loss.backward()\n",
    "\n",
    "    #print('Loss:{}'.format(loss))\n",
    "    #print(f'Target Q value:{expected_rewards}, current Q value:{current_Q_values}')\n",
    "    #print(loss)\n",
    "\n",
    "    #torch.nn.utils.clip_grad_value_(policy_net.parameters(), 100)   #limit the gradient value\n",
    "    for param in policy_net.parameters():\n",
    "        param.grad.data.clamp_(-1, 1)\n",
    "    optimizer.step()\n",
    "\n",
    "\n",
    "\n",
    "def train():\n",
    "    state, _info = env.reset()\n",
    "    max_cumulated_reward = 0\n",
    "    for i in range(num_episodes):\n",
    "    # action generation for replay buffer\n",
    "        cumulated_reward = 0\n",
    "        for j in count():\n",
    "            \n",
    "            action = action_policy.take_action(Q_estimation = policy_net, state = state)\n",
    "            next_state, reward, terminated, truncated, _ = env.step(action)\n",
    "            if terminated == True or truncated:\n",
    "                next_state = [0. for i in range(env.observation_space.shape[0])]\n",
    "            #mul_fun = lambda x: x*100\n",
    "            #state = list(map(mul_fun, state))\n",
    "            #next_state = list(map(mul_fun, next_state))\n",
    "            if terminated == True:\n",
    "                reward = -5  #choose the skewed value for terminate (penalty)\n",
    "            memory_buffer.push(*[state, action, next_state, reward])\n",
    "\n",
    "    # batch sampling from memory for model training\n",
    "            model_train()\n",
    "\n",
    "            cumulated_reward += reward\n",
    "            \n",
    "\n",
    "            if terminated == True or truncated == True:\n",
    "                state, _info = env.reset()\n",
    "                if cumulated_reward > max_cumulated_reward:\n",
    "                    max_cumulated_reward = cumulated_reward\n",
    "                    torch.save(policy_net, 'DQN{}.pt'.format(i))\n",
    "                break\n",
    "            else:\n",
    "                state = next_state\n",
    "                \n",
    "        episode_durations.append(cumulated_reward)\n",
    "        target_net_state_dict = target_net.state_dict()\n",
    "        policy_net_parameters = policy_net.state_dict()\n",
    "\n",
    "        for key in target_net_state_dict.keys():\n",
    "            target_net_state_dict[key] = policy_net_parameters[key] * TAU + target_net_state_dict[key]*(1-TAU)\n",
    "\n",
    "        target_net.load_state_dict(target_net_state_dict)\n",
    "        plot_durations()\n",
    "        \n",
    "train()\n",
    "env.close()\n",
    "print('Complete')\n",
    "plot_durations(show_result=True)\n",
    "plt.ioff()\n",
    "plt.show()\n",
    "        "
   ]
  },
  {
   "cell_type": "code",
   "execution_count": 10,
   "metadata": {},
   "outputs": [
    {
     "name": "stdout",
     "output_type": "stream",
     "text": [
      "tensor([ 0.2892, -0.0756,  0.7478,  0.7801,  0.0088], grad_fn=<SliceBackward0>)\n",
      "tensor([ 0.2897, -0.0751,  0.7448,  0.7726,  0.0072], grad_fn=<SliceBackward0>)\n"
     ]
    },
    {
     "data": {
      "text/plain": [
       "<bound method epsilon_greedy_policy.decay_value_update of <__main__.epsilon_greedy_policy object at 0x0000013A7D40BC50>>"
      ]
     },
     "execution_count": 10,
     "metadata": {},
     "output_type": "execute_result"
    }
   ],
   "source": [
    "print(target_net.layer1.bias[:5])\n",
    "print(policy_net.layer1.bias[:5])\n",
    "action_policy.decay_value_update"
   ]
  },
  {
   "cell_type": "markdown",
   "metadata": {},
   "source": [
    "Test"
   ]
  },
  {
   "cell_type": "code",
   "execution_count": null,
   "metadata": {},
   "outputs": [
    {
     "name": "stderr",
     "output_type": "stream",
     "text": [
      "C:\\Users\\24573\\AppData\\Local\\Temp\\ipykernel_394600\\4151375913.py:4: FutureWarning: You are using `torch.load` with `weights_only=False` (the current default value), which uses the default pickle module implicitly. It is possible to construct malicious pickle data which will execute arbitrary code during unpickling (See https://github.com/pytorch/pytorch/blob/main/SECURITY.md#untrusted-models for more details). In a future release, the default value for `weights_only` will be flipped to `True`. This limits the functions that could be executed during unpickling. Arbitrary objects will no longer be allowed to be loaded via this mode unless they are explicitly allowlisted by the user via `torch.serialization.add_safe_globals`. We recommend you start setting `weights_only=True` for any use case where you don't have full control of the loaded file. Please open an issue on GitHub for any issues related to this experimental feature.\n",
      "  DQN_model = torch.load('DQN599.pt')\n"
     ]
    },
    {
     "name": "stdout",
     "output_type": "stream",
     "text": [
      "Action:0 Reward:1.0 next_state [-0.00340922 -0.14934707  0.00109471  0.2691404 ]\n",
      "Action:1 Reward:1.0 next_state [-0.00639617  0.04575925  0.00647751 -0.02319707]\n",
      "Action:0 Reward:1.0 next_state [-0.00548098 -0.149455    0.00601357  0.27152252]\n",
      "Action:1 Reward:1.0 next_state [-0.00847008  0.04558063  0.01144402 -0.01925764]\n",
      "Action:0 Reward:1.0 next_state [-0.00755847 -0.14970355  0.01105887  0.27701393]\n",
      "Action:1 Reward:1.0 next_state [-0.01055254  0.04525889  0.01659915 -0.01216062]\n",
      "Action:0 Reward:1.0 next_state [-0.00964736 -0.15009713  0.01635594  0.28571296]\n",
      "Action:1 Reward:1.0 next_state [-0.0126493   0.04478779  0.0220702  -0.00176687]\n",
      "Action:0 Reward:1.0 next_state [-0.01175355 -0.15064362  0.02203486  0.29779696]\n",
      "Action:1 Reward:1.0 next_state [-0.01476642  0.04415741  0.0279908   0.01214407]\n",
      "Action:1 Reward:1.0 next_state [-0.01388327  0.23886698  0.02823368 -0.27157766]\n",
      "Action:0 Reward:1.0 next_state [-0.00910593  0.04335377  0.02280213  0.02987488]\n",
      "Action:1 Reward:1.0 next_state [-0.00823886  0.23814143  0.02339962 -0.2555274 ]\n",
      "Action:0 Reward:1.0 next_state [-0.00347603  0.04269334  0.01828907  0.04444333]\n",
      "Action:1 Reward:1.0 next_state [-0.00262216  0.23754832  0.01917794 -0.24241358]\n",
      "Action:0 Reward:1.0 next_state [0.00212881 0.04215775 0.01432967 0.05625635]\n",
      "Action:1 Reward:1.0 next_state [ 0.00297196  0.23707134  0.0154548  -0.23187123]\n",
      "Action:0 Reward:1.0 next_state [0.00771339 0.04173201 0.01081737 0.06564631]\n",
      "Action:1 Reward:1.0 next_state [ 0.00854803  0.23669721  0.0121303  -0.22360414]\n",
      "Action:0 Reward:1.0 next_state [0.01328197 0.041404   0.00765822 0.07288034]\n",
      "Action:1 Reward:1.0 next_state [ 0.01411005  0.23641533  0.00911582 -0.21737659]\n",
      "Action:0 Reward:1.0 next_state [0.01883836 0.04116426 0.00476829 0.07816786]\n",
      "Action:1 Reward:1.0 next_state [ 0.01966164  0.23621753  0.00633165 -0.21300684]\n",
      "Action:0 Reward:1.0 next_state [0.02438599 0.04100563 0.00207151 0.08166663]\n",
      "Action:1 Reward:1.0 next_state [ 0.02520611  0.23609783  0.00370484 -0.21036202]\n",
      "Action:0 Reward:1.0 next_state [ 0.02992806  0.0409231  -0.0005024   0.08348729]\n",
      "Action:1 Reward:1.0 next_state [ 0.03074653  0.23605224  0.00116735 -0.2093541 ]\n",
      "Action:0 Reward:1.0 next_state [ 0.03546757  0.04091362 -0.00301973  0.08369683]\n",
      "Action:1 Reward:1.0 next_state [ 0.03628584  0.23607872 -0.0013458  -0.20993729]\n",
      "Action:0 Reward:1.0 next_state [ 0.04100742  0.04097605 -0.00554454  0.0823208 ]\n",
      "Action:1 Reward:1.0 next_state [ 0.04182694  0.23617704 -0.00389813 -0.21210627]\n",
      "Action:0 Reward:1.0 next_state [ 0.04655048  0.04111104 -0.00814025  0.07934446]\n",
      "Action:1 Reward:1.0 next_state [ 0.0473727   0.23634873 -0.00655336 -0.21589558]\n",
      "Action:0 Reward:1.0 next_state [ 0.05209967  0.04132108 -0.01087127  0.07471294]\n",
      "Action:1 Reward:1.0 next_state [ 0.0529261   0.23659718 -0.00937702 -0.22138   ]\n",
      "Action:0 Reward:1.0 next_state [ 0.05765804  0.04161051 -0.01380462  0.06833035]\n",
      "Action:1 Reward:1.0 next_state [ 0.05849025  0.23692763 -0.01243801 -0.22867583]\n",
      "Action:0 Reward:1.0 next_state [ 0.0632288   0.0419856  -0.01701153  0.0600579 ]\n",
      "Action:1 Reward:1.0 next_state [ 0.06406851  0.23734729 -0.01581037 -0.23794337]\n",
      "Action:0 Reward:1.0 next_state [ 0.06881546  0.04245473 -0.02056924  0.04971087]\n",
      "Action:0 Reward:1.0 next_state [ 0.06966455 -0.15236633 -0.01957502  0.33583373]\n",
      "Action:1 Reward:1.0 next_state [ 0.06661723  0.04302865 -0.01285834  0.03704271]\n",
      "Action:0 Reward:1.0 next_state [ 0.0674778  -0.15190658 -0.01211749  0.32564113]\n",
      "Action:1 Reward:1.0 next_state [ 0.06443967  0.04338579 -0.00560467  0.02916163]\n",
      "Action:1 Reward:1.0 next_state [ 0.06530739  0.23858766 -0.00502143 -0.26528436]\n",
      "Action:0 Reward:1.0 next_state [ 0.07007914  0.04353774 -0.01032712  0.02581055]\n",
      "Action:0 Reward:1.0 next_state [ 0.07094989 -0.1514346  -0.00981091  0.31521735]\n",
      "Action:1 Reward:1.0 next_state [ 0.0679212   0.04382572 -0.00350656  0.0194566 ]\n",
      "Action:0 Reward:1.0 next_state [ 0.06879772 -0.15124577 -0.00311743  0.3110311 ]\n",
      "Action:1 Reward:1.0 next_state [0.0657728  0.04392046 0.00310319 0.01736667]\n",
      "Action:1 Reward:1.0 next_state [ 0.06665121  0.23899777  0.00345052 -0.27433556]\n",
      "Action:0 Reward:1.0 next_state [ 0.07143117  0.04382676 -0.00203619  0.01943368]\n",
      "Action:1 Reward:1.0 next_state [ 0.0723077   0.23897785 -0.00164751 -0.273891  ]\n",
      "Action:0 Reward:1.0 next_state [ 0.07708725  0.04387945 -0.00712533  0.01827185]\n",
      "Action:0 Reward:1.0 next_state [ 0.07796484 -0.1511396  -0.0067599   0.30869815]\n",
      "Action:1 Reward:1.0 next_state [ 0.07494205  0.04407801 -0.00058593  0.01389103]\n",
      "Action:1 Reward:1.0 next_state [ 0.07582361  0.23920837 -0.00030811 -0.2789767 ]\n",
      "Action:0 Reward:1.0 next_state [ 0.08060778  0.04409081 -0.00588765  0.01360903]\n",
      "Action:0 Reward:1.0 next_state [ 0.0814896  -0.15094621 -0.00561546  0.30442855]\n",
      "Action:1 Reward:1.0 next_state [0.07847068 0.04425531 0.00047311 0.00997993]\n",
      "Action:1 Reward:1.0 next_state [ 0.07935578  0.23937048  0.0006727  -0.2825537 ]\n",
      "Action:0 Reward:1.0 next_state [ 0.08414319  0.04423894 -0.00497837  0.01034132]\n",
      "Action:0 Reward:1.0 next_state [ 0.08502797 -0.15081127 -0.00477154  0.30144936]\n",
      "Action:1 Reward:1.0 next_state [0.08201174 0.04437837 0.00125744 0.00726542]\n",
      "Action:1 Reward:1.0 next_state [ 0.08289931  0.23948227  0.00140275 -0.2850205 ]\n",
      "Action:0 Reward:1.0 next_state [ 0.08768895  0.04434033 -0.00429766  0.00810452]\n",
      "Action:0 Reward:1.0 next_state [ 0.08857577 -0.15071972 -0.00413557  0.29942837]\n",
      "Action:1 Reward:1.0 next_state [0.08556136 0.04446093 0.001853   0.00544406]\n",
      "Action:1 Reward:1.0 next_state [ 0.08645058  0.23955627  0.00196188 -0.28665364]\n",
      "Action:0 Reward:1.0 next_state [ 0.09124171  0.04440639 -0.00377119  0.00664739]\n",
      "Action:0 Reward:1.0 next_state [ 0.09212984 -0.15066127 -0.00363824  0.29813808]\n",
      "Action:1 Reward:1.0 next_state [0.08911661 0.04451235 0.00232452 0.00430994]\n",
      "Action:1 Reward:1.0 next_state [ 0.09000686  0.23960088  0.00241072 -0.28763866]\n",
      "Action:0 Reward:1.0 next_state [ 0.09479888  0.04444464 -0.00334206  0.0058036 ]\n",
      "Action:0 Reward:1.0 next_state [ 0.09568777 -0.15062922 -0.00322598  0.2974302 ]\n",
      "Action:1 Reward:1.0 next_state [0.09267519 0.04453856 0.00272262 0.0037316 ]\n",
      "Action:1 Reward:1.0 next_state [ 0.09356596  0.23962136  0.00279725 -0.28809106]\n",
      "Action:0 Reward:1.0 next_state [ 0.09835839  0.04445963 -0.00296457  0.00547277]\n",
      "Action:1 Reward:1.0 next_state [ 0.09924757  0.23962398 -0.00285511 -0.28814402]\n",
      "Action:0 Reward:1.0 next_state [ 0.10404006  0.04454286 -0.008618    0.00363705]\n"
     ]
    }
   ],
   "source": [
    "import time \n",
    "\n",
    "#env.render_mode = 'human'\n",
    "DQN_model = torch.load('DQN_official.pt')\n",
    "cumulated_rewards = 0\n",
    "\n",
    "env = gym.make(\"CartPole-v1\", render_mode = 'human')\n",
    "#env = gym.make('Acrobot-v1', render_mode=\"human\")\n",
    "state, _ = env.reset()\n",
    "#env.render()\n",
    "\n",
    "for j in count():\n",
    "    #action = action_policy.take_action_policy(policy_net, state, verbose=True)\n",
    "    action = action_policy.take_action_policy(DQN_model, state)\n",
    "    next_state, reward, terminated, _, __ = env.step(action)\n",
    "    print('Action:{} Reward:{} next_state {}'.format(action, reward, next_state))\n",
    "    if terminated or _ == True:\n",
    "        print('End! with {} rewards'.format(j))\n",
    "        break\n",
    "    else:\n",
    "        cumulated_rewards += 1\n",
    "        state = next_state\n",
    "    if cumulated_rewards >= 80: #can be removed, just for test\n",
    "        break\n",
    "    time.sleep(0.1)\n",
    "env.close()\n"
   ]
  }
 ],
 "metadata": {
  "kernelspec": {
   "display_name": ".venv",
   "language": "python",
   "name": "python3"
  },
  "language_info": {
   "codemirror_mode": {
    "name": "ipython",
    "version": 3
   },
   "file_extension": ".py",
   "mimetype": "text/x-python",
   "name": "python",
   "nbconvert_exporter": "python",
   "pygments_lexer": "ipython3",
   "version": "3.11.9"
  }
 },
 "nbformat": 4,
 "nbformat_minor": 2
}
